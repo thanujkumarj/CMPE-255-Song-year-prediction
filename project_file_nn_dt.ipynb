{
  "cells": [
    {
      "cell_type": "code",
      "execution_count": 2,
      "id": "6f6c6615",
      "metadata": {
        "id": "6f6c6615"
      },
      "outputs": [],
      "source": [
        "# Importing required libraries\n",
        "import pandas as pd\n",
        "import matplotlib.pyplot as plt\n",
        "from sklearn.preprocessing import MinMaxScaler\n",
        "from keras.utils.np_utils import to_categorical\n",
        "from keras.models import Sequential\n",
        "from keras.layers.core import Dense, Dropout"
      ]
    },
    {
      "cell_type": "code",
      "execution_count": 3,
      "id": "06e43df3",
      "metadata": {
        "id": "06e43df3"
      },
      "outputs": [],
      "source": [
        "# Given 90 features. Naming them as t1, t2, ...\n",
        "T_features = ['year', 't1', 't2', 't3', 't4', 't5', 't6', 't7', 't8', 't9', 't10', 't11', 't12', 't13', 't14', 't15', 't16', 't17', 't18', 't19', 't20', 't21', 't22', 't23', 't24', 't25', 't26', 't27', 't28', 't29', 't30', 't31', 't32', 't33', 't34', 't35', 't36 ', 't37', 't38', 't39', 't40', 't41', 't42', 't43', 't44', 't45', 't46', 't47', 't48', 't49', 't50', 't51', 't52', 't53' , 't54', 't55', 't56', 't57', 't58', 't59', 't60', 't61', 't62', 't63', 't64', 't65', 't66', 't67', 't68', 't69', 't70', 't71', 't72', 't73', 't74', 't75', 't76', 't77', 't78', 't79', 't80', 't81', 't82', 't83', 't84', 't85', 't86', 't87', 't88', 't89', 't90']"
      ]
    },
    {
      "cell_type": "code",
      "execution_count": 4,
      "id": "229535c8",
      "metadata": {
        "id": "229535c8"
      },
      "outputs": [],
      "source": [
        "# Loading the million song dataset\n",
        "song_data = pd.read_csv(\"/content/sample_data/YearPredictionMSD.txt\", names=T_features)"
      ]
    },
    {
      "cell_type": "code",
      "execution_count": 5,
      "id": "7b80035f",
      "metadata": {
        "colab": {
          "base_uri": "https://localhost:8080/",
          "height": 363
        },
        "id": "7b80035f",
        "outputId": "00fc04eb-2291-4f8f-9b90-d3b2ec48c39e"
      },
      "outputs": [
        {
          "output_type": "execute_result",
          "data": {
            "text/plain": [
              "    year        t1        t2        t3        t4        t5        t6  \\\n",
              "50  2003  48.74021  58.47058   6.31415  -4.83502 -20.12980 -10.66583   \n",
              "51  2001  47.07198  11.08431   2.40665  -3.59094  -7.34207 -23.30182   \n",
              "52  2003  46.57028  40.21313  26.57595  -6.26195   4.39768 -11.51428   \n",
              "53  2001  50.38848  33.10541  -9.96038 -16.36960   3.72800 -27.46891   \n",
              "54  2003  46.90560 -14.39794  13.99280   1.34363 -16.92556 -13.65773   \n",
              "55  2003  48.17885  41.24859   0.54511   4.56058  -5.99131 -17.37135   \n",
              "56  2003  48.12588  10.30049  -0.28290  -3.53812   8.23451 -15.89021   \n",
              "57  2003  44.22182  31.24939  12.98686   4.18576  -8.55989 -20.89608   \n",
              "58  2003  41.80813  -0.46708 -34.72247   1.79426 -15.91473   0.58501   \n",
              "59  2003  44.20112  24.37638 -16.52952  -6.18728   0.32469 -26.69728   \n",
              "\n",
              "          t7        t8        t9      t10  \n",
              "50  -3.79006  -5.86413 -12.05891 -6.12167  \n",
              "51  -4.69296  -9.66001  -1.17057 -1.97378  \n",
              "52  10.49994  -0.84929   6.39492 -1.54861  \n",
              "53 -10.35206  -7.59486   6.28963  3.99158  \n",
              "54   0.17184 -15.54375   8.09908 -3.35865  \n",
              "55  12.71668   2.77777  10.86294  8.14324  \n",
              "56  -0.31856  -3.08992   0.58811 -2.70819  \n",
              "57  23.92051  -0.90318  -0.27313 -0.74136  \n",
              "58   1.75419  -8.46113   8.44353 -2.99996  \n",
              "59  11.79268   0.93033  -2.40651 -2.84050  "
            ],
            "text/html": [
              "\n",
              "  <div id=\"df-e4c6a5de-afab-4943-baa7-4e643ea4cce2\">\n",
              "    <div class=\"colab-df-container\">\n",
              "      <div>\n",
              "<style scoped>\n",
              "    .dataframe tbody tr th:only-of-type {\n",
              "        vertical-align: middle;\n",
              "    }\n",
              "\n",
              "    .dataframe tbody tr th {\n",
              "        vertical-align: top;\n",
              "    }\n",
              "\n",
              "    .dataframe thead th {\n",
              "        text-align: right;\n",
              "    }\n",
              "</style>\n",
              "<table border=\"1\" class=\"dataframe\">\n",
              "  <thead>\n",
              "    <tr style=\"text-align: right;\">\n",
              "      <th></th>\n",
              "      <th>year</th>\n",
              "      <th>t1</th>\n",
              "      <th>t2</th>\n",
              "      <th>t3</th>\n",
              "      <th>t4</th>\n",
              "      <th>t5</th>\n",
              "      <th>t6</th>\n",
              "      <th>t7</th>\n",
              "      <th>t8</th>\n",
              "      <th>t9</th>\n",
              "      <th>t10</th>\n",
              "    </tr>\n",
              "  </thead>\n",
              "  <tbody>\n",
              "    <tr>\n",
              "      <th>50</th>\n",
              "      <td>2003</td>\n",
              "      <td>48.74021</td>\n",
              "      <td>58.47058</td>\n",
              "      <td>6.31415</td>\n",
              "      <td>-4.83502</td>\n",
              "      <td>-20.12980</td>\n",
              "      <td>-10.66583</td>\n",
              "      <td>-3.79006</td>\n",
              "      <td>-5.86413</td>\n",
              "      <td>-12.05891</td>\n",
              "      <td>-6.12167</td>\n",
              "    </tr>\n",
              "    <tr>\n",
              "      <th>51</th>\n",
              "      <td>2001</td>\n",
              "      <td>47.07198</td>\n",
              "      <td>11.08431</td>\n",
              "      <td>2.40665</td>\n",
              "      <td>-3.59094</td>\n",
              "      <td>-7.34207</td>\n",
              "      <td>-23.30182</td>\n",
              "      <td>-4.69296</td>\n",
              "      <td>-9.66001</td>\n",
              "      <td>-1.17057</td>\n",
              "      <td>-1.97378</td>\n",
              "    </tr>\n",
              "    <tr>\n",
              "      <th>52</th>\n",
              "      <td>2003</td>\n",
              "      <td>46.57028</td>\n",
              "      <td>40.21313</td>\n",
              "      <td>26.57595</td>\n",
              "      <td>-6.26195</td>\n",
              "      <td>4.39768</td>\n",
              "      <td>-11.51428</td>\n",
              "      <td>10.49994</td>\n",
              "      <td>-0.84929</td>\n",
              "      <td>6.39492</td>\n",
              "      <td>-1.54861</td>\n",
              "    </tr>\n",
              "    <tr>\n",
              "      <th>53</th>\n",
              "      <td>2001</td>\n",
              "      <td>50.38848</td>\n",
              "      <td>33.10541</td>\n",
              "      <td>-9.96038</td>\n",
              "      <td>-16.36960</td>\n",
              "      <td>3.72800</td>\n",
              "      <td>-27.46891</td>\n",
              "      <td>-10.35206</td>\n",
              "      <td>-7.59486</td>\n",
              "      <td>6.28963</td>\n",
              "      <td>3.99158</td>\n",
              "    </tr>\n",
              "    <tr>\n",
              "      <th>54</th>\n",
              "      <td>2003</td>\n",
              "      <td>46.90560</td>\n",
              "      <td>-14.39794</td>\n",
              "      <td>13.99280</td>\n",
              "      <td>1.34363</td>\n",
              "      <td>-16.92556</td>\n",
              "      <td>-13.65773</td>\n",
              "      <td>0.17184</td>\n",
              "      <td>-15.54375</td>\n",
              "      <td>8.09908</td>\n",
              "      <td>-3.35865</td>\n",
              "    </tr>\n",
              "    <tr>\n",
              "      <th>55</th>\n",
              "      <td>2003</td>\n",
              "      <td>48.17885</td>\n",
              "      <td>41.24859</td>\n",
              "      <td>0.54511</td>\n",
              "      <td>4.56058</td>\n",
              "      <td>-5.99131</td>\n",
              "      <td>-17.37135</td>\n",
              "      <td>12.71668</td>\n",
              "      <td>2.77777</td>\n",
              "      <td>10.86294</td>\n",
              "      <td>8.14324</td>\n",
              "    </tr>\n",
              "    <tr>\n",
              "      <th>56</th>\n",
              "      <td>2003</td>\n",
              "      <td>48.12588</td>\n",
              "      <td>10.30049</td>\n",
              "      <td>-0.28290</td>\n",
              "      <td>-3.53812</td>\n",
              "      <td>8.23451</td>\n",
              "      <td>-15.89021</td>\n",
              "      <td>-0.31856</td>\n",
              "      <td>-3.08992</td>\n",
              "      <td>0.58811</td>\n",
              "      <td>-2.70819</td>\n",
              "    </tr>\n",
              "    <tr>\n",
              "      <th>57</th>\n",
              "      <td>2003</td>\n",
              "      <td>44.22182</td>\n",
              "      <td>31.24939</td>\n",
              "      <td>12.98686</td>\n",
              "      <td>4.18576</td>\n",
              "      <td>-8.55989</td>\n",
              "      <td>-20.89608</td>\n",
              "      <td>23.92051</td>\n",
              "      <td>-0.90318</td>\n",
              "      <td>-0.27313</td>\n",
              "      <td>-0.74136</td>\n",
              "    </tr>\n",
              "    <tr>\n",
              "      <th>58</th>\n",
              "      <td>2003</td>\n",
              "      <td>41.80813</td>\n",
              "      <td>-0.46708</td>\n",
              "      <td>-34.72247</td>\n",
              "      <td>1.79426</td>\n",
              "      <td>-15.91473</td>\n",
              "      <td>0.58501</td>\n",
              "      <td>1.75419</td>\n",
              "      <td>-8.46113</td>\n",
              "      <td>8.44353</td>\n",
              "      <td>-2.99996</td>\n",
              "    </tr>\n",
              "    <tr>\n",
              "      <th>59</th>\n",
              "      <td>2003</td>\n",
              "      <td>44.20112</td>\n",
              "      <td>24.37638</td>\n",
              "      <td>-16.52952</td>\n",
              "      <td>-6.18728</td>\n",
              "      <td>0.32469</td>\n",
              "      <td>-26.69728</td>\n",
              "      <td>11.79268</td>\n",
              "      <td>0.93033</td>\n",
              "      <td>-2.40651</td>\n",
              "      <td>-2.84050</td>\n",
              "    </tr>\n",
              "  </tbody>\n",
              "</table>\n",
              "</div>\n",
              "      <button class=\"colab-df-convert\" onclick=\"convertToInteractive('df-e4c6a5de-afab-4943-baa7-4e643ea4cce2')\"\n",
              "              title=\"Convert this dataframe to an interactive table.\"\n",
              "              style=\"display:none;\">\n",
              "        \n",
              "  <svg xmlns=\"http://www.w3.org/2000/svg\" height=\"24px\"viewBox=\"0 0 24 24\"\n",
              "       width=\"24px\">\n",
              "    <path d=\"M0 0h24v24H0V0z\" fill=\"none\"/>\n",
              "    <path d=\"M18.56 5.44l.94 2.06.94-2.06 2.06-.94-2.06-.94-.94-2.06-.94 2.06-2.06.94zm-11 1L8.5 8.5l.94-2.06 2.06-.94-2.06-.94L8.5 2.5l-.94 2.06-2.06.94zm10 10l.94 2.06.94-2.06 2.06-.94-2.06-.94-.94-2.06-.94 2.06-2.06.94z\"/><path d=\"M17.41 7.96l-1.37-1.37c-.4-.4-.92-.59-1.43-.59-.52 0-1.04.2-1.43.59L10.3 9.45l-7.72 7.72c-.78.78-.78 2.05 0 2.83L4 21.41c.39.39.9.59 1.41.59.51 0 1.02-.2 1.41-.59l7.78-7.78 2.81-2.81c.8-.78.8-2.07 0-2.86zM5.41 20L4 18.59l7.72-7.72 1.47 1.35L5.41 20z\"/>\n",
              "  </svg>\n",
              "      </button>\n",
              "      \n",
              "  <style>\n",
              "    .colab-df-container {\n",
              "      display:flex;\n",
              "      flex-wrap:wrap;\n",
              "      gap: 12px;\n",
              "    }\n",
              "\n",
              "    .colab-df-convert {\n",
              "      background-color: #E8F0FE;\n",
              "      border: none;\n",
              "      border-radius: 50%;\n",
              "      cursor: pointer;\n",
              "      display: none;\n",
              "      fill: #1967D2;\n",
              "      height: 32px;\n",
              "      padding: 0 0 0 0;\n",
              "      width: 32px;\n",
              "    }\n",
              "\n",
              "    .colab-df-convert:hover {\n",
              "      background-color: #E2EBFA;\n",
              "      box-shadow: 0px 1px 2px rgba(60, 64, 67, 0.3), 0px 1px 3px 1px rgba(60, 64, 67, 0.15);\n",
              "      fill: #174EA6;\n",
              "    }\n",
              "\n",
              "    [theme=dark] .colab-df-convert {\n",
              "      background-color: #3B4455;\n",
              "      fill: #D2E3FC;\n",
              "    }\n",
              "\n",
              "    [theme=dark] .colab-df-convert:hover {\n",
              "      background-color: #434B5C;\n",
              "      box-shadow: 0px 1px 3px 1px rgba(0, 0, 0, 0.15);\n",
              "      filter: drop-shadow(0px 1px 2px rgba(0, 0, 0, 0.3));\n",
              "      fill: #FFFFFF;\n",
              "    }\n",
              "  </style>\n",
              "\n",
              "      <script>\n",
              "        const buttonEl =\n",
              "          document.querySelector('#df-e4c6a5de-afab-4943-baa7-4e643ea4cce2 button.colab-df-convert');\n",
              "        buttonEl.style.display =\n",
              "          google.colab.kernel.accessAllowed ? 'block' : 'none';\n",
              "\n",
              "        async function convertToInteractive(key) {\n",
              "          const element = document.querySelector('#df-e4c6a5de-afab-4943-baa7-4e643ea4cce2');\n",
              "          const dataTable =\n",
              "            await google.colab.kernel.invokeFunction('convertToInteractive',\n",
              "                                                     [key], {});\n",
              "          if (!dataTable) return;\n",
              "\n",
              "          const docLinkHtml = 'Like what you see? Visit the ' +\n",
              "            '<a target=\"_blank\" href=https://colab.research.google.com/notebooks/data_table.ipynb>data table notebook</a>'\n",
              "            + ' to learn more about interactive tables.';\n",
              "          element.innerHTML = '';\n",
              "          dataTable['output_type'] = 'display_data';\n",
              "          await google.colab.output.renderOutput(dataTable, element);\n",
              "          const docLink = document.createElement('div');\n",
              "          docLink.innerHTML = docLinkHtml;\n",
              "          element.appendChild(docLink);\n",
              "        }\n",
              "      </script>\n",
              "    </div>\n",
              "  </div>\n",
              "  "
            ]
          },
          "metadata": {},
          "execution_count": 5
        }
      ],
      "source": [
        "# Looking at a few records of the data\n",
        "song_data.iloc[50:60, 0:11]"
      ]
    },
    {
      "cell_type": "code",
      "execution_count": 6,
      "id": "eaa36f7f",
      "metadata": {
        "colab": {
          "base_uri": "https://localhost:8080/"
        },
        "id": "eaa36f7f",
        "outputId": "7d87f873-9ef7-4203-adb6-c5a839bb83ed"
      },
      "outputs": [
        {
          "output_type": "execute_result",
          "data": {
            "text/plain": [
              "(515345, 91)"
            ]
          },
          "metadata": {},
          "execution_count": 6
        }
      ],
      "source": [
        "# Shape of the dataframe\n",
        "song_data.shape"
      ]
    },
    {
      "cell_type": "code",
      "execution_count": 7,
      "id": "ecc97362",
      "metadata": {
        "id": "ecc97362"
      },
      "outputs": [],
      "source": [
        "# Changing default display setting to view all rows for checking null values in the data.\n",
        "pd.set_option('display.max_rows',None)"
      ]
    },
    {
      "cell_type": "code",
      "source": [
        "# Finding null values\n",
        "res = song_data.isnull().any()\n",
        "count = 0\n",
        "for i in res:\n",
        "  if i == True:\n",
        "    count += 1\n",
        "print(\"Number of columns with null values: \", count)"
      ],
      "metadata": {
        "colab": {
          "base_uri": "https://localhost:8080/"
        },
        "id": "UJax9mWFUu-V",
        "outputId": "801ec7ca-ce01-479a-dc03-b37300de5e0d"
      },
      "id": "UJax9mWFUu-V",
      "execution_count": 73,
      "outputs": [
        {
          "output_type": "stream",
          "name": "stdout",
          "text": [
            "Number of columns with null values:  0\n"
          ]
        }
      ]
    },
    {
      "cell_type": "code",
      "execution_count": 9,
      "id": "98ac5b51",
      "metadata": {
        "colab": {
          "base_uri": "https://localhost:8080/"
        },
        "id": "98ac5b51",
        "outputId": "e96e469d-06b7-45f6-eab8-262150dac01c"
      },
      "outputs": [
        {
          "output_type": "stream",
          "name": "stdout",
          "text": [
            "    Year numberofsongs\n",
            "0   1922             6\n",
            "1   1923             0\n",
            "2   1924             5\n",
            "3   1925             7\n",
            "4   1926            19\n",
            "5   1927            42\n",
            "6   1928            52\n",
            "7   1929            93\n",
            "8   1930            40\n",
            "9   1931            35\n",
            "10  1932            11\n",
            "11  1933             6\n",
            "12  1934            29\n",
            "13  1935            24\n",
            "14  1936            25\n",
            "15  1937            28\n",
            "16  1938            19\n",
            "17  1939            35\n",
            "18  1940            52\n",
            "19  1941            32\n",
            "20  1942            24\n",
            "21  1943            14\n",
            "22  1944            15\n",
            "23  1945            30\n",
            "24  1946            29\n",
            "25  1947            57\n",
            "26  1948            43\n",
            "27  1949            60\n",
            "28  1950            83\n",
            "29  1951            74\n",
            "30  1952            77\n",
            "31  1953           133\n",
            "32  1954           123\n",
            "33  1955           275\n",
            "34  1956           565\n",
            "35  1957           597\n",
            "36  1958           583\n",
            "37  1959           592\n",
            "38  1960           424\n",
            "39  1961           571\n",
            "40  1962           605\n",
            "41  1963           902\n",
            "42  1964           945\n",
            "43  1965          1120\n",
            "44  1966          1377\n",
            "45  1967          1718\n",
            "46  1968          1867\n",
            "47  1969          2210\n",
            "48  1970          2349\n",
            "49  1971          2131\n",
            "50  1972          2288\n",
            "51  1973          2596\n",
            "52  1974          2184\n",
            "53  1975          2482\n",
            "54  1976          2179\n",
            "55  1977          2502\n",
            "56  1978          2926\n",
            "57  1979          3108\n",
            "58  1980          3101\n",
            "59  1981          3162\n",
            "60  1982          3597\n",
            "61  1983          3386\n",
            "62  1984          3368\n",
            "63  1985          3578\n",
            "64  1986          4219\n",
            "65  1987          5122\n",
            "66  1988          5611\n",
            "67  1989          6670\n",
            "68  1990          7256\n",
            "69  1991          8647\n",
            "70  1992          9543\n",
            "71  1993         10525\n",
            "72  1994         12121\n",
            "73  1995         13257\n",
            "74  1996         14130\n",
            "75  1997         15182\n",
            "76  1998         15814\n",
            "77  1999         18238\n",
            "78  2000         19285\n",
            "79  2001         21590\n",
            "80  2002         23451\n",
            "81  2003         27382\n",
            "82  2004         29607\n",
            "83  2005         34952\n",
            "84  2006         37534\n",
            "85  2007         39404\n",
            "86  2008         34760\n",
            "87  2009         31038\n",
            "88  2010          9396\n",
            "89  2011             1\n"
          ]
        }
      ],
      "source": [
        "# Getting number of songs per year to understand the song year distribution\n",
        "numberofsongs = {}\n",
        "df = pd.DataFrame(columns=['Year', 'numberofsongs'])\n",
        "for y in range(1922,2012):\n",
        "    numberofsongs[y] = len(song_data[song_data.year==y])\n",
        "    df.loc[len(df)] = [y, numberofsongs[y] ]\n",
        "print(df)"
      ]
    },
    {
      "cell_type": "code",
      "execution_count": 10,
      "id": "00e7d7ef",
      "metadata": {
        "colab": {
          "base_uri": "https://localhost:8080/",
          "height": 312
        },
        "id": "00e7d7ef",
        "outputId": "df2348ff-e5b8-4859-83b3-a5915ead0223"
      },
      "outputs": [
        {
          "output_type": "execute_result",
          "data": {
            "text/plain": [
              "Text(0, 0.5, 'Number of songs')"
            ]
          },
          "metadata": {},
          "execution_count": 10
        },
        {
          "output_type": "display_data",
          "data": {
            "text/plain": [
              "<Figure size 432x288 with 1 Axes>"
            ],
            "image/png": "[encoded data removed]"
          },
          "metadata": {
            "needs_background": "light"
          }
        }
      ],
      "source": [
        "# Getting the class distrubution of the classes(release years)\n",
        "plt.title(\"Release year distribution\")\n",
        "years = range(1922,2012)\n",
        "v = [numberofsongs[y] for y in years]\n",
        "plt.bar(years, v, align='center')\n",
        "plt.xlabel(\"Release Year\")\n",
        "plt.ylabel(\"Number of songs\")"
      ]
    },
    {
      "cell_type": "code",
      "execution_count": 11,
      "id": "f40f7063",
      "metadata": {
        "colab": {
          "base_uri": "https://localhost:8080/",
          "height": 296
        },
        "id": "f40f7063",
        "outputId": "50a0973c-7f7a-4756-aba1-735ac2634408"
      },
      "outputs": [
        {
          "output_type": "execute_result",
          "data": {
            "text/plain": [
              "<matplotlib.legend.Legend at 0x7f0af4d70bb0>"
            ]
          },
          "metadata": {},
          "execution_count": 11
        },
        {
          "output_type": "display_data",
          "data": {
            "text/plain": [
              "<Figure size 432x288 with 1 Axes>"
            ],
            "image/png": "[encoded data removed]"
          },
          "metadata": {
            "needs_background": "light"
          }
        }
      ],
      "source": [
        "# plotting 10 features and checking how the sorted values are distributed across the songs\n",
        "for t in T_features[1:10]:\n",
        "    y_values = song_data[t]\n",
        "    plt.plot(sorted(y_values), label=t, linewidth=1)\n",
        "plt.xlabel(\"No. of Songs\")\n",
        "plt.ylabel(\"Feature_Value\")\n",
        "plt.legend(loc='upper center', bbox_to_anchor=(0.6, 0.3), ncol=3, fancybox=True, shadow=True)"
      ]
    },
    {
      "cell_type": "code",
      "execution_count": 12,
      "id": "2aead96d",
      "metadata": {
        "id": "2aead96d"
      },
      "outputs": [],
      "source": [
        "# Extracting the X(input features) and y(output) data frames\n",
        "X = song_data.iloc[:,1:]  # X contains 90 columns\n",
        "Y = song_data.iloc[:,0]  # Y contains year column"
      ]
    },
    {
      "cell_type": "code",
      "execution_count": 13,
      "id": "5c1262d4",
      "metadata": {
        "colab": {
          "base_uri": "https://localhost:8080/",
          "height": 394
        },
        "id": "5c1262d4",
        "outputId": "1389558e-724c-4ab1-ec41-d415ecacd55e"
      },
      "outputs": [
        {
          "output_type": "execute_result",
          "data": {
            "text/plain": [
              "                  t1             t2             t3             t4  \\\n",
              "count  515345.000000  515345.000000  515345.000000  515345.000000   \n",
              "mean       43.387126       1.289554       8.658347       1.164124   \n",
              "std         6.067558      51.580351      35.268585      16.322790   \n",
              "min         1.749000    -337.092500    -301.005060    -154.183580   \n",
              "25%        39.954690     -26.059520     -11.462710      -8.487500   \n",
              "50%        44.258500       8.417850      10.476320      -0.652840   \n",
              "75%        47.833890      36.124010      29.764820       8.787540   \n",
              "max        61.970140     384.065730     322.851430     335.771820   \n",
              "\n",
              "                  t5             t6             t7             t8  \\\n",
              "count  515345.000000  515345.000000  515345.000000  515345.000000   \n",
              "mean       -6.553601      -9.521975      -2.391089      -1.793236   \n",
              "std        22.860785      12.857751      14.571873       7.963827   \n",
              "min      -181.953370     -81.794290    -188.214000     -72.503850   \n",
              "25%       -20.666450     -18.440990     -10.780600      -6.468420   \n",
              "50%        -6.007770     -11.188390      -2.046670      -1.736450   \n",
              "75%         7.741870      -2.388960       6.508580       2.913450   \n",
              "max       262.068870     166.236890     172.402680     126.741270   \n",
              "\n",
              "                  t9            t10  ...            t81            t82  \\\n",
              "count  515345.000000  515345.000000  ...  515345.000000  515345.000000   \n",
              "mean        3.727876       1.882385  ...      15.755406     -73.461500   \n",
              "std        10.582861       6.530232  ...      32.099635     175.618889   \n",
              "min      -126.479040     -41.631660  ...    -437.722030   -4402.376440   \n",
              "25%        -2.293660      -2.444850  ...      -1.812650    -139.555160   \n",
              "50%         3.822310       1.783520  ...       9.171850     -53.090060   \n",
              "75%         9.961820       6.147220  ...      26.274480      13.478730   \n",
              "max       146.297950      60.345350  ...     840.973380    4469.454870   \n",
              "\n",
              "                 t83            t84            t85            t86  \\\n",
              "count  515345.000000  515345.000000  515345.000000  515345.000000   \n",
              "mean       41.542422      37.934119       0.315751      17.669213   \n",
              "std       122.228799      95.050631      16.161764     114.427905   \n",
              "min     -1810.689190   -3098.350310    -341.789120   -3168.924570   \n",
              "25%       -20.986900      -4.669540      -6.781590     -31.580610   \n",
              "50%        28.791060      33.623630       0.820840      15.598470   \n",
              "75%        89.661770      77.785800       8.470990      67.794960   \n",
              "max      3210.701700    1734.079690     260.544900    3662.065650   \n",
              "\n",
              "                 t87            t88            t89            t90  \n",
              "count  515345.000000  515345.000000  515345.000000  515345.000000  \n",
              "mean      -26.315336       4.458641      20.035136       1.329105  \n",
              "std       173.977336      13.346557     185.558247      22.088576  \n",
              "min     -4319.992320    -236.039260   -7458.378150    -381.424430  \n",
              "25%      -101.530300      -2.566090     -59.509270      -8.820210  \n",
              "50%       -21.204120       3.117640       7.759730       0.053050  \n",
              "75%        52.389330       9.967740      86.351610       9.679520  \n",
              "max      2833.608950     463.419500    7393.398440     677.899630  \n",
              "\n",
              "[8 rows x 90 columns]"
            ],
            "text/html": [
              "\n",
              "  <div id=\"df-c5a580c7-4e62-4606-a05a-03c83cf5999a\">\n",
              "    <div class=\"colab-df-container\">\n",
              "      <div>\n",
              "<style scoped>\n",
              "    .dataframe tbody tr th:only-of-type {\n",
              "        vertical-align: middle;\n",
              "    }\n",
              "\n",
              "    .dataframe tbody tr th {\n",
              "        vertical-align: top;\n",
              "    }\n",
              "\n",
              "    .dataframe thead th {\n",
              "        text-align: right;\n",
              "    }\n",
              "</style>\n",
              "<table border=\"1\" class=\"dataframe\">\n",
              "  <thead>\n",
              "    <tr style=\"text-align: right;\">\n",
              "      <th></th>\n",
              "      <th>t1</th>\n",
              "      <th>t2</th>\n",
              "      <th>t3</th>\n",
              "      <th>t4</th>\n",
              "      <th>t5</th>\n",
              "      <th>t6</th>\n",
              "      <th>t7</th>\n",
              "      <th>t8</th>\n",
              "      <th>t9</th>\n",
              "      <th>t10</th>\n",
              "      <th>...</th>\n",
              "      <th>t81</th>\n",
              "      <th>t82</th>\n",
              "      <th>t83</th>\n",
              "      <th>t84</th>\n",
              "      <th>t85</th>\n",
              "      <th>t86</th>\n",
              "      <th>t87</th>\n",
              "      <th>t88</th>\n",
              "      <th>t89</th>\n",
              "      <th>t90</th>\n",
              "    </tr>\n",
              "  </thead>\n",
              "  <tbody>\n",
              "    <tr>\n",
              "      <th>count</th>\n",
              "      <td>515345.000000</td>\n",
              "      <td>515345.000000</td>\n",
              "      <td>515345.000000</td>\n",
              "      <td>515345.000000</td>\n",
              "      <td>515345.000000</td>\n",
              "      <td>515345.000000</td>\n",
              "      <td>515345.000000</td>\n",
              "      <td>515345.000000</td>\n",
              "      <td>515345.000000</td>\n",
              "      <td>515345.000000</td>\n",
              "      <td>...</td>\n",
              "      <td>515345.000000</td>\n",
              "      <td>515345.000000</td>\n",
              "      <td>515345.000000</td>\n",
              "      <td>515345.000000</td>\n",
              "      <td>515345.000000</td>\n",
              "      <td>515345.000000</td>\n",
              "      <td>515345.000000</td>\n",
              "      <td>515345.000000</td>\n",
              "      <td>515345.000000</td>\n",
              "      <td>515345.000000</td>\n",
              "    </tr>\n",
              "    <tr>\n",
              "      <th>mean</th>\n",
              "      <td>43.387126</td>\n",
              "      <td>1.289554</td>\n",
              "      <td>8.658347</td>\n",
              "      <td>1.164124</td>\n",
              "      <td>-6.553601</td>\n",
              "      <td>-9.521975</td>\n",
              "      <td>-2.391089</td>\n",
              "      <td>-1.793236</td>\n",
              "      <td>3.727876</td>\n",
              "      <td>1.882385</td>\n",
              "      <td>...</td>\n",
              "      <td>15.755406</td>\n",
              "      <td>-73.461500</td>\n",
              "      <td>41.542422</td>\n",
              "      <td>37.934119</td>\n",
              "      <td>0.315751</td>\n",
              "      <td>17.669213</td>\n",
              "      <td>-26.315336</td>\n",
              "      <td>4.458641</td>\n",
              "      <td>20.035136</td>\n",
              "      <td>1.329105</td>\n",
              "    </tr>\n",
              "    <tr>\n",
              "      <th>std</th>\n",
              "      <td>6.067558</td>\n",
              "      <td>51.580351</td>\n",
              "      <td>35.268585</td>\n",
              "      <td>16.322790</td>\n",
              "      <td>22.860785</td>\n",
              "      <td>12.857751</td>\n",
              "      <td>14.571873</td>\n",
              "      <td>7.963827</td>\n",
              "      <td>10.582861</td>\n",
              "      <td>6.530232</td>\n",
              "      <td>...</td>\n",
              "      <td>32.099635</td>\n",
              "      <td>175.618889</td>\n",
              "      <td>122.228799</td>\n",
              "      <td>95.050631</td>\n",
              "      <td>16.161764</td>\n",
              "      <td>114.427905</td>\n",
              "      <td>173.977336</td>\n",
              "      <td>13.346557</td>\n",
              "      <td>185.558247</td>\n",
              "      <td>22.088576</td>\n",
              "    </tr>\n",
              "    <tr>\n",
              "      <th>min</th>\n",
              "      <td>1.749000</td>\n",
              "      <td>-337.092500</td>\n",
              "      <td>-301.005060</td>\n",
              "      <td>-154.183580</td>\n",
              "      <td>-181.953370</td>\n",
              "      <td>-81.794290</td>\n",
              "      <td>-188.214000</td>\n",
              "      <td>-72.503850</td>\n",
              "      <td>-126.479040</td>\n",
              "      <td>-41.631660</td>\n",
              "      <td>...</td>\n",
              "      <td>-437.722030</td>\n",
              "      <td>-4402.376440</td>\n",
              "      <td>-1810.689190</td>\n",
              "      <td>-3098.350310</td>\n",
              "      <td>-341.789120</td>\n",
              "      <td>-3168.924570</td>\n",
              "      <td>-4319.992320</td>\n",
              "      <td>-236.039260</td>\n",
              "      <td>-7458.378150</td>\n",
              "      <td>-381.424430</td>\n",
              "    </tr>\n",
              "    <tr>\n",
              "      <th>25%</th>\n",
              "      <td>39.954690</td>\n",
              "      <td>-26.059520</td>\n",
              "      <td>-11.462710</td>\n",
              "      <td>-8.487500</td>\n",
              "      <td>-20.666450</td>\n",
              "      <td>-18.440990</td>\n",
              "      <td>-10.780600</td>\n",
              "      <td>-6.468420</td>\n",
              "      <td>-2.293660</td>\n",
              "      <td>-2.444850</td>\n",
              "      <td>...</td>\n",
              "      <td>-1.812650</td>\n",
              "      <td>-139.555160</td>\n",
              "      <td>-20.986900</td>\n",
              "      <td>-4.669540</td>\n",
              "      <td>-6.781590</td>\n",
              "      <td>-31.580610</td>\n",
              "      <td>-101.530300</td>\n",
              "      <td>-2.566090</td>\n",
              "      <td>-59.509270</td>\n",
              "      <td>-8.820210</td>\n",
              "    </tr>\n",
              "    <tr>\n",
              "      <th>50%</th>\n",
              "      <td>44.258500</td>\n",
              "      <td>8.417850</td>\n",
              "      <td>10.476320</td>\n",
              "      <td>-0.652840</td>\n",
              "      <td>-6.007770</td>\n",
              "      <td>-11.188390</td>\n",
              "      <td>-2.046670</td>\n",
              "      <td>-1.736450</td>\n",
              "      <td>3.822310</td>\n",
              "      <td>1.783520</td>\n",
              "      <td>...</td>\n",
              "      <td>9.171850</td>\n",
              "      <td>-53.090060</td>\n",
              "      <td>28.791060</td>\n",
              "      <td>33.623630</td>\n",
              "      <td>0.820840</td>\n",
              "      <td>15.598470</td>\n",
              "      <td>-21.204120</td>\n",
              "      <td>3.117640</td>\n",
              "      <td>7.759730</td>\n",
              "      <td>0.053050</td>\n",
              "    </tr>\n",
              "    <tr>\n",
              "      <th>75%</th>\n",
              "      <td>47.833890</td>\n",
              "      <td>36.124010</td>\n",
              "      <td>29.764820</td>\n",
              "      <td>8.787540</td>\n",
              "      <td>7.741870</td>\n",
              "      <td>-2.388960</td>\n",
              "      <td>6.508580</td>\n",
              "      <td>2.913450</td>\n",
              "      <td>9.961820</td>\n",
              "      <td>6.147220</td>\n",
              "      <td>...</td>\n",
              "      <td>26.274480</td>\n",
              "      <td>13.478730</td>\n",
              "      <td>89.661770</td>\n",
              "      <td>77.785800</td>\n",
              "      <td>8.470990</td>\n",
              "      <td>67.794960</td>\n",
              "      <td>52.389330</td>\n",
              "      <td>9.967740</td>\n",
              "      <td>86.351610</td>\n",
              "      <td>9.679520</td>\n",
              "    </tr>\n",
              "    <tr>\n",
              "      <th>max</th>\n",
              "      <td>61.970140</td>\n",
              "      <td>384.065730</td>\n",
              "      <td>322.851430</td>\n",
              "      <td>335.771820</td>\n",
              "      <td>262.068870</td>\n",
              "      <td>166.236890</td>\n",
              "      <td>172.402680</td>\n",
              "      <td>126.741270</td>\n",
              "      <td>146.297950</td>\n",
              "      <td>60.345350</td>\n",
              "      <td>...</td>\n",
              "      <td>840.973380</td>\n",
              "      <td>4469.454870</td>\n",
              "      <td>3210.701700</td>\n",
              "      <td>1734.079690</td>\n",
              "      <td>260.544900</td>\n",
              "      <td>3662.065650</td>\n",
              "      <td>2833.608950</td>\n",
              "      <td>463.419500</td>\n",
              "      <td>7393.398440</td>\n",
              "      <td>677.899630</td>\n",
              "    </tr>\n",
              "  </tbody>\n",
              "</table>\n",
              "<p>8 rows × 90 columns</p>\n",
              "</div>\n",
              "      <button class=\"colab-df-convert\" onclick=\"convertToInteractive('df-c5a580c7-4e62-4606-a05a-03c83cf5999a')\"\n",
              "              title=\"Convert this dataframe to an interactive table.\"\n",
              "              style=\"display:none;\">\n",
              "        \n",
              "  <svg xmlns=\"http://www.w3.org/2000/svg\" height=\"24px\"viewBox=\"0 0 24 24\"\n",
              "       width=\"24px\">\n",
              "    <path d=\"M0 0h24v24H0V0z\" fill=\"none\"/>\n",
              "    <path d=\"M18.56 5.44l.94 2.06.94-2.06 2.06-.94-2.06-.94-.94-2.06-.94 2.06-2.06.94zm-11 1L8.5 8.5l.94-2.06 2.06-.94-2.06-.94L8.5 2.5l-.94 2.06-2.06.94zm10 10l.94 2.06.94-2.06 2.06-.94-2.06-.94-.94-2.06-.94 2.06-2.06.94z\"/><path d=\"M17.41 7.96l-1.37-1.37c-.4-.4-.92-.59-1.43-.59-.52 0-1.04.2-1.43.59L10.3 9.45l-7.72 7.72c-.78.78-.78 2.05 0 2.83L4 21.41c.39.39.9.59 1.41.59.51 0 1.02-.2 1.41-.59l7.78-7.78 2.81-2.81c.8-.78.8-2.07 0-2.86zM5.41 20L4 18.59l7.72-7.72 1.47 1.35L5.41 20z\"/>\n",
              "  </svg>\n",
              "      </button>\n",
              "      \n",
              "  <style>\n",
              "    .colab-df-container {\n",
              "      display:flex;\n",
              "      flex-wrap:wrap;\n",
              "      gap: 12px;\n",
              "    }\n",
              "\n",
              "    .colab-df-convert {\n",
              "      background-color: #E8F0FE;\n",
              "      border: none;\n",
              "      border-radius: 50%;\n",
              "      cursor: pointer;\n",
              "      display: none;\n",
              "      fill: #1967D2;\n",
              "      height: 32px;\n",
              "      padding: 0 0 0 0;\n",
              "      width: 32px;\n",
              "    }\n",
              "\n",
              "    .colab-df-convert:hover {\n",
              "      background-color: #E2EBFA;\n",
              "      box-shadow: 0px 1px 2px rgba(60, 64, 67, 0.3), 0px 1px 3px 1px rgba(60, 64, 67, 0.15);\n",
              "      fill: #174EA6;\n",
              "    }\n",
              "\n",
              "    [theme=dark] .colab-df-convert {\n",
              "      background-color: #3B4455;\n",
              "      fill: #D2E3FC;\n",
              "    }\n",
              "\n",
              "    [theme=dark] .colab-df-convert:hover {\n",
              "      background-color: #434B5C;\n",
              "      box-shadow: 0px 1px 3px 1px rgba(0, 0, 0, 0.15);\n",
              "      filter: drop-shadow(0px 1px 2px rgba(0, 0, 0, 0.3));\n",
              "      fill: #FFFFFF;\n",
              "    }\n",
              "  </style>\n",
              "\n",
              "      <script>\n",
              "        const buttonEl =\n",
              "          document.querySelector('#df-c5a580c7-4e62-4606-a05a-03c83cf5999a button.colab-df-convert');\n",
              "        buttonEl.style.display =\n",
              "          google.colab.kernel.accessAllowed ? 'block' : 'none';\n",
              "\n",
              "        async function convertToInteractive(key) {\n",
              "          const element = document.querySelector('#df-c5a580c7-4e62-4606-a05a-03c83cf5999a');\n",
              "          const dataTable =\n",
              "            await google.colab.kernel.invokeFunction('convertToInteractive',\n",
              "                                                     [key], {});\n",
              "          if (!dataTable) return;\n",
              "\n",
              "          const docLinkHtml = 'Like what you see? Visit the ' +\n",
              "            '<a target=\"_blank\" href=https://colab.research.google.com/notebooks/data_table.ipynb>data table notebook</a>'\n",
              "            + ' to learn more about interactive tables.';\n",
              "          element.innerHTML = '';\n",
              "          dataTable['output_type'] = 'display_data';\n",
              "          await google.colab.output.renderOutput(dataTable, element);\n",
              "          const docLink = document.createElement('div');\n",
              "          docLink.innerHTML = docLinkHtml;\n",
              "          element.appendChild(docLink);\n",
              "        }\n",
              "      </script>\n",
              "    </div>\n",
              "  </div>\n",
              "  "
            ]
          },
          "metadata": {},
          "execution_count": 13
        }
      ],
      "source": [
        "# Getting description of the data to get an understanding of the values\n",
        "X.describe()"
      ]
    },
    {
      "cell_type": "code",
      "execution_count": 14,
      "id": "6703dd10",
      "metadata": {
        "id": "6703dd10"
      },
      "outputs": [],
      "source": [
        "# The scale of the feature values are varying. Hence normalizing the features using min max scaling\n",
        "\n",
        "scaler = MinMaxScaler()\n",
        "scaler.fit(X)\n",
        "X_scaled = scaler.transform(X)\n",
        "X_df = pd.DataFrame(X_scaled,columns=X.columns)"
      ]
    },
    {
      "cell_type": "code",
      "execution_count": 15,
      "id": "0f8e6a74",
      "metadata": {
        "colab": {
          "base_uri": "https://localhost:8080/",
          "height": 394
        },
        "id": "0f8e6a74",
        "outputId": "b594732a-3cab-4510-c87e-949373b983af"
      },
      "outputs": [
        {
          "output_type": "execute_result",
          "data": {
            "text/plain": [
              "                  t1             t2             t3             t4  \\\n",
              "count  515345.000000  515345.000000  515345.000000  515345.000000   \n",
              "mean        0.691420       0.469220       0.496370       0.317065   \n",
              "std         0.100755       0.071524       0.056533       0.033315   \n",
              "min         0.000000       0.000000       0.000000       0.000000   \n",
              "25%         0.634423       0.431296       0.464117       0.297366   \n",
              "50%         0.705890       0.479105       0.499284       0.313357   \n",
              "75%         0.765261       0.517524       0.530202       0.332624   \n",
              "max         1.000000       1.000000       1.000000       1.000000   \n",
              "\n",
              "                  t5             t6             t7             t8  \\\n",
              "count  515345.000000  515345.000000  515345.000000  515345.000000   \n",
              "mean        0.395025       0.291384       0.515292       0.354893   \n",
              "std         0.051486       0.051839       0.040408       0.039970   \n",
              "min         0.000000       0.000000       0.000000       0.000000   \n",
              "25%         0.363241       0.255425       0.492028       0.331428   \n",
              "50%         0.396254       0.284665       0.516247       0.355178   \n",
              "75%         0.427220       0.320143       0.539971       0.378515   \n",
              "max         1.000000       1.000000       1.000000       1.000000   \n",
              "\n",
              "                  t9            t10  ...            t81            t82  \\\n",
              "count  515345.000000  515345.000000  ...  515345.000000  515345.000000   \n",
              "mean        0.477338       0.426704  ...       0.354641       0.487939   \n",
              "std         0.038797       0.064036  ...       0.025103       0.019795   \n",
              "min         0.000000       0.000000  ...       0.000000       0.000000   \n",
              "25%         0.455263       0.384271  ...       0.340902       0.480489   \n",
              "50%         0.477685       0.425735  ...       0.349492       0.490235   \n",
              "75%         0.500192       0.468526  ...       0.362867       0.497739   \n",
              "max         1.000000       1.000000  ...       1.000000       1.000000   \n",
              "\n",
              "                 t83            t84            t85            t86  \\\n",
              "count  515345.000000  515345.000000  515345.000000  515345.000000   \n",
              "mean        0.368868       0.649008       0.567965       0.466491   \n",
              "std         0.024342       0.019669       0.026832       0.016751   \n",
              "min         0.000000       0.000000       0.000000       0.000000   \n",
              "25%         0.356416       0.640192       0.556182       0.459281   \n",
              "50%         0.366329       0.648116       0.568804       0.466188   \n",
              "75%         0.378451       0.657254       0.581505       0.473829   \n",
              "max         1.000000       1.000000       1.000000       1.000000   \n",
              "\n",
              "                 t87            t88            t89            t90  \n",
              "count  515345.000000  515345.000000  515345.000000  515345.000000  \n",
              "mean        0.600212       0.343834       0.503537       0.361319  \n",
              "std         0.024320       0.019081       0.012494       0.020852  \n",
              "min         0.000000       0.000000       0.000000       0.000000  \n",
              "25%         0.589698       0.333791       0.498181       0.351738  \n",
              "50%         0.600926       0.341917       0.502710       0.360114  \n",
              "75%         0.611214       0.351711       0.508002       0.369201  \n",
              "max         1.000000       1.000000       1.000000       1.000000  \n",
              "\n",
              "[8 rows x 90 columns]"
            ],
            "text/html": [
              "\n",
              "  <div id=\"df-ac4cc633-9d4d-4c9f-a303-659ee9d78bb0\">\n",
              "    <div class=\"colab-df-container\">\n",
              "      <div>\n",
              "<style scoped>\n",
              "    .dataframe tbody tr th:only-of-type {\n",
              "        vertical-align: middle;\n",
              "    }\n",
              "\n",
              "    .dataframe tbody tr th {\n",
              "        vertical-align: top;\n",
              "    }\n",
              "\n",
              "    .dataframe thead th {\n",
              "        text-align: right;\n",
              "    }\n",
              "</style>\n",
              "<table border=\"1\" class=\"dataframe\">\n",
              "  <thead>\n",
              "    <tr style=\"text-align: right;\">\n",
              "      <th></th>\n",
              "      <th>t1</th>\n",
              "      <th>t2</th>\n",
              "      <th>t3</th>\n",
              "      <th>t4</th>\n",
              "      <th>t5</th>\n",
              "      <th>t6</th>\n",
              "      <th>t7</th>\n",
              "      <th>t8</th>\n",
              "      <th>t9</th>\n",
              "      <th>t10</th>\n",
              "      <th>...</th>\n",
              "      <th>t81</th>\n",
              "      <th>t82</th>\n",
              "      <th>t83</th>\n",
              "      <th>t84</th>\n",
              "      <th>t85</th>\n",
              "      <th>t86</th>\n",
              "      <th>t87</th>\n",
              "      <th>t88</th>\n",
              "      <th>t89</th>\n",
              "      <th>t90</th>\n",
              "    </tr>\n",
              "  </thead>\n",
              "  <tbody>\n",
              "    <tr>\n",
              "      <th>count</th>\n",
              "      <td>515345.000000</td>\n",
              "      <td>515345.000000</td>\n",
              "      <td>515345.000000</td>\n",
              "      <td>515345.000000</td>\n",
              "      <td>515345.000000</td>\n",
              "      <td>515345.000000</td>\n",
              "      <td>515345.000000</td>\n",
              "      <td>515345.000000</td>\n",
              "      <td>515345.000000</td>\n",
              "      <td>515345.000000</td>\n",
              "      <td>...</td>\n",
              "      <td>515345.000000</td>\n",
              "      <td>515345.000000</td>\n",
              "      <td>515345.000000</td>\n",
              "      <td>515345.000000</td>\n",
              "      <td>515345.000000</td>\n",
              "      <td>515345.000000</td>\n",
              "      <td>515345.000000</td>\n",
              "      <td>515345.000000</td>\n",
              "      <td>515345.000000</td>\n",
              "      <td>515345.000000</td>\n",
              "    </tr>\n",
              "    <tr>\n",
              "      <th>mean</th>\n",
              "      <td>0.691420</td>\n",
              "      <td>0.469220</td>\n",
              "      <td>0.496370</td>\n",
              "      <td>0.317065</td>\n",
              "      <td>0.395025</td>\n",
              "      <td>0.291384</td>\n",
              "      <td>0.515292</td>\n",
              "      <td>0.354893</td>\n",
              "      <td>0.477338</td>\n",
              "      <td>0.426704</td>\n",
              "      <td>...</td>\n",
              "      <td>0.354641</td>\n",
              "      <td>0.487939</td>\n",
              "      <td>0.368868</td>\n",
              "      <td>0.649008</td>\n",
              "      <td>0.567965</td>\n",
              "      <td>0.466491</td>\n",
              "      <td>0.600212</td>\n",
              "      <td>0.343834</td>\n",
              "      <td>0.503537</td>\n",
              "      <td>0.361319</td>\n",
              "    </tr>\n",
              "    <tr>\n",
              "      <th>std</th>\n",
              "      <td>0.100755</td>\n",
              "      <td>0.071524</td>\n",
              "      <td>0.056533</td>\n",
              "      <td>0.033315</td>\n",
              "      <td>0.051486</td>\n",
              "      <td>0.051839</td>\n",
              "      <td>0.040408</td>\n",
              "      <td>0.039970</td>\n",
              "      <td>0.038797</td>\n",
              "      <td>0.064036</td>\n",
              "      <td>...</td>\n",
              "      <td>0.025103</td>\n",
              "      <td>0.019795</td>\n",
              "      <td>0.024342</td>\n",
              "      <td>0.019669</td>\n",
              "      <td>0.026832</td>\n",
              "      <td>0.016751</td>\n",
              "      <td>0.024320</td>\n",
              "      <td>0.019081</td>\n",
              "      <td>0.012494</td>\n",
              "      <td>0.020852</td>\n",
              "    </tr>\n",
              "    <tr>\n",
              "      <th>min</th>\n",
              "      <td>0.000000</td>\n",
              "      <td>0.000000</td>\n",
              "      <td>0.000000</td>\n",
              "      <td>0.000000</td>\n",
              "      <td>0.000000</td>\n",
              "      <td>0.000000</td>\n",
              "      <td>0.000000</td>\n",
              "      <td>0.000000</td>\n",
              "      <td>0.000000</td>\n",
              "      <td>0.000000</td>\n",
              "      <td>...</td>\n",
              "      <td>0.000000</td>\n",
              "      <td>0.000000</td>\n",
              "      <td>0.000000</td>\n",
              "      <td>0.000000</td>\n",
              "      <td>0.000000</td>\n",
              "      <td>0.000000</td>\n",
              "      <td>0.000000</td>\n",
              "      <td>0.000000</td>\n",
              "      <td>0.000000</td>\n",
              "      <td>0.000000</td>\n",
              "    </tr>\n",
              "    <tr>\n",
              "      <th>25%</th>\n",
              "      <td>0.634423</td>\n",
              "      <td>0.431296</td>\n",
              "      <td>0.464117</td>\n",
              "      <td>0.297366</td>\n",
              "      <td>0.363241</td>\n",
              "      <td>0.255425</td>\n",
              "      <td>0.492028</td>\n",
              "      <td>0.331428</td>\n",
              "      <td>0.455263</td>\n",
              "      <td>0.384271</td>\n",
              "      <td>...</td>\n",
              "      <td>0.340902</td>\n",
              "      <td>0.480489</td>\n",
              "      <td>0.356416</td>\n",
              "      <td>0.640192</td>\n",
              "      <td>0.556182</td>\n",
              "      <td>0.459281</td>\n",
              "      <td>0.589698</td>\n",
              "      <td>0.333791</td>\n",
              "      <td>0.498181</td>\n",
              "      <td>0.351738</td>\n",
              "    </tr>\n",
              "    <tr>\n",
              "      <th>50%</th>\n",
              "      <td>0.705890</td>\n",
              "      <td>0.479105</td>\n",
              "      <td>0.499284</td>\n",
              "      <td>0.313357</td>\n",
              "      <td>0.396254</td>\n",
              "      <td>0.284665</td>\n",
              "      <td>0.516247</td>\n",
              "      <td>0.355178</td>\n",
              "      <td>0.477685</td>\n",
              "      <td>0.425735</td>\n",
              "      <td>...</td>\n",
              "      <td>0.349492</td>\n",
              "      <td>0.490235</td>\n",
              "      <td>0.366329</td>\n",
              "      <td>0.648116</td>\n",
              "      <td>0.568804</td>\n",
              "      <td>0.466188</td>\n",
              "      <td>0.600926</td>\n",
              "      <td>0.341917</td>\n",
              "      <td>0.502710</td>\n",
              "      <td>0.360114</td>\n",
              "    </tr>\n",
              "    <tr>\n",
              "      <th>75%</th>\n",
              "      <td>0.765261</td>\n",
              "      <td>0.517524</td>\n",
              "      <td>0.530202</td>\n",
              "      <td>0.332624</td>\n",
              "      <td>0.427220</td>\n",
              "      <td>0.320143</td>\n",
              "      <td>0.539971</td>\n",
              "      <td>0.378515</td>\n",
              "      <td>0.500192</td>\n",
              "      <td>0.468526</td>\n",
              "      <td>...</td>\n",
              "      <td>0.362867</td>\n",
              "      <td>0.497739</td>\n",
              "      <td>0.378451</td>\n",
              "      <td>0.657254</td>\n",
              "      <td>0.581505</td>\n",
              "      <td>0.473829</td>\n",
              "      <td>0.611214</td>\n",
              "      <td>0.351711</td>\n",
              "      <td>0.508002</td>\n",
              "      <td>0.369201</td>\n",
              "    </tr>\n",
              "    <tr>\n",
              "      <th>max</th>\n",
              "      <td>1.000000</td>\n",
              "      <td>1.000000</td>\n",
              "      <td>1.000000</td>\n",
              "      <td>1.000000</td>\n",
              "      <td>1.000000</td>\n",
              "      <td>1.000000</td>\n",
              "      <td>1.000000</td>\n",
              "      <td>1.000000</td>\n",
              "      <td>1.000000</td>\n",
              "      <td>1.000000</td>\n",
              "      <td>...</td>\n",
              "      <td>1.000000</td>\n",
              "      <td>1.000000</td>\n",
              "      <td>1.000000</td>\n",
              "      <td>1.000000</td>\n",
              "      <td>1.000000</td>\n",
              "      <td>1.000000</td>\n",
              "      <td>1.000000</td>\n",
              "      <td>1.000000</td>\n",
              "      <td>1.000000</td>\n",
              "      <td>1.000000</td>\n",
              "    </tr>\n",
              "  </tbody>\n",
              "</table>\n",
              "<p>8 rows × 90 columns</p>\n",
              "</div>\n",
              "      <button class=\"colab-df-convert\" onclick=\"convertToInteractive('df-ac4cc633-9d4d-4c9f-a303-659ee9d78bb0')\"\n",
              "              title=\"Convert this dataframe to an interactive table.\"\n",
              "              style=\"display:none;\">\n",
              "        \n",
              "  <svg xmlns=\"http://www.w3.org/2000/svg\" height=\"24px\"viewBox=\"0 0 24 24\"\n",
              "       width=\"24px\">\n",
              "    <path d=\"M0 0h24v24H0V0z\" fill=\"none\"/>\n",
              "    <path d=\"M18.56 5.44l.94 2.06.94-2.06 2.06-.94-2.06-.94-.94-2.06-.94 2.06-2.06.94zm-11 1L8.5 8.5l.94-2.06 2.06-.94-2.06-.94L8.5 2.5l-.94 2.06-2.06.94zm10 10l.94 2.06.94-2.06 2.06-.94-2.06-.94-.94-2.06-.94 2.06-2.06.94z\"/><path d=\"M17.41 7.96l-1.37-1.37c-.4-.4-.92-.59-1.43-.59-.52 0-1.04.2-1.43.59L10.3 9.45l-7.72 7.72c-.78.78-.78 2.05 0 2.83L4 21.41c.39.39.9.59 1.41.59.51 0 1.02-.2 1.41-.59l7.78-7.78 2.81-2.81c.8-.78.8-2.07 0-2.86zM5.41 20L4 18.59l7.72-7.72 1.47 1.35L5.41 20z\"/>\n",
              "  </svg>\n",
              "      </button>\n",
              "      \n",
              "  <style>\n",
              "    .colab-df-container {\n",
              "      display:flex;\n",
              "      flex-wrap:wrap;\n",
              "      gap: 12px;\n",
              "    }\n",
              "\n",
              "    .colab-df-convert {\n",
              "      background-color: #E8F0FE;\n",
              "      border: none;\n",
              "      border-radius: 50%;\n",
              "      cursor: pointer;\n",
              "      display: none;\n",
              "      fill: #1967D2;\n",
              "      height: 32px;\n",
              "      padding: 0 0 0 0;\n",
              "      width: 32px;\n",
              "    }\n",
              "\n",
              "    .colab-df-convert:hover {\n",
              "      background-color: #E2EBFA;\n",
              "      box-shadow: 0px 1px 2px rgba(60, 64, 67, 0.3), 0px 1px 3px 1px rgba(60, 64, 67, 0.15);\n",
              "      fill: #174EA6;\n",
              "    }\n",
              "\n",
              "    [theme=dark] .colab-df-convert {\n",
              "      background-color: #3B4455;\n",
              "      fill: #D2E3FC;\n",
              "    }\n",
              "\n",
              "    [theme=dark] .colab-df-convert:hover {\n",
              "      background-color: #434B5C;\n",
              "      box-shadow: 0px 1px 3px 1px rgba(0, 0, 0, 0.15);\n",
              "      filter: drop-shadow(0px 1px 2px rgba(0, 0, 0, 0.3));\n",
              "      fill: #FFFFFF;\n",
              "    }\n",
              "  </style>\n",
              "\n",
              "      <script>\n",
              "        const buttonEl =\n",
              "          document.querySelector('#df-ac4cc633-9d4d-4c9f-a303-659ee9d78bb0 button.colab-df-convert');\n",
              "        buttonEl.style.display =\n",
              "          google.colab.kernel.accessAllowed ? 'block' : 'none';\n",
              "\n",
              "        async function convertToInteractive(key) {\n",
              "          const element = document.querySelector('#df-ac4cc633-9d4d-4c9f-a303-659ee9d78bb0');\n",
              "          const dataTable =\n",
              "            await google.colab.kernel.invokeFunction('convertToInteractive',\n",
              "                                                     [key], {});\n",
              "          if (!dataTable) return;\n",
              "\n",
              "          const docLinkHtml = 'Like what you see? Visit the ' +\n",
              "            '<a target=\"_blank\" href=https://colab.research.google.com/notebooks/data_table.ipynb>data table notebook</a>'\n",
              "            + ' to learn more about interactive tables.';\n",
              "          element.innerHTML = '';\n",
              "          dataTable['output_type'] = 'display_data';\n",
              "          await google.colab.output.renderOutput(dataTable, element);\n",
              "          const docLink = document.createElement('div');\n",
              "          docLink.innerHTML = docLinkHtml;\n",
              "          element.appendChild(docLink);\n",
              "        }\n",
              "      </script>\n",
              "    </div>\n",
              "  </div>\n",
              "  "
            ]
          },
          "metadata": {},
          "execution_count": 15
        }
      ],
      "source": [
        "X_df.describe()"
      ]
    },
    {
      "cell_type": "code",
      "execution_count": 16,
      "id": "18966291",
      "metadata": {
        "colab": {
          "base_uri": "https://localhost:8080/",
          "height": 296
        },
        "id": "18966291",
        "outputId": "3b490d03-9873-4c95-a04c-6b7dc5b20f72"
      },
      "outputs": [
        {
          "output_type": "execute_result",
          "data": {
            "text/plain": [
              "<matplotlib.legend.Legend at 0x7f0af4d62910>"
            ]
          },
          "metadata": {},
          "execution_count": 16
        },
        {
          "output_type": "display_data",
          "data": {
            "text/plain": [
              "<Figure size 432x288 with 1 Axes>"
            ],
            "image/png": "[encoded data removed]"
          },
          "metadata": {
            "needs_background": "light"
          }
        }
      ],
      "source": [
        "# plotting 10 features and checking how the sorted values are distributed across the songs\n",
        "for t in T_features[1:10]:\n",
        "    y_values = X_df[t]\n",
        "    plt.plot(sorted(y_values), label=t, linewidth=1)\n",
        "plt.xlabel(\"No. of Songs\")\n",
        "plt.ylabel(\"Feature_Value\")\n",
        "plt.legend(loc='upper center', bbox_to_anchor=(0.6, 0.3), ncol=3, fancybox=True, shadow=True)"
      ]
    },
    {
      "cell_type": "code",
      "execution_count": 17,
      "id": "f2bd8733",
      "metadata": {
        "colab": {
          "base_uri": "https://localhost:8080/",
          "height": 297
        },
        "id": "f2bd8733",
        "outputId": "744f8556-ed80-4df8-829e-9a559add2035"
      },
      "outputs": [
        {
          "output_type": "execute_result",
          "data": {
            "text/plain": [
              "<matplotlib.legend.Legend at 0x7f0af5c6f670>"
            ]
          },
          "metadata": {},
          "execution_count": 17
        },
        {
          "output_type": "display_data",
          "data": {
            "text/plain": [
              "<Figure size 432x288 with 1 Axes>"
            ],
            "image/png": "[encoded data removed]"
          },
          "metadata": {
            "needs_background": "light"
          }
        }
      ],
      "source": [
        "#plotting 50 samples from 100 to 149\n",
        "for i in range(100, 150):\n",
        "    plt.plot(X_df.loc[i], label='song_' + str(i))\n",
        "    \n",
        "plt.xlabel(\"Feature_label\")\n",
        "plt.ylabel(\"Value\")\n",
        "plt.legend(loc='upper center', bbox_to_anchor=(1, 1), ncol=5, fancybox=True, shadow=True, fontsize=7)"
      ]
    },
    {
      "cell_type": "markdown",
      "id": "1ff16124",
      "metadata": {
        "id": "1ff16124"
      },
      "source": [
        "From the above data description output and graphs we can see that the values are now scaled between 0 and 1"
      ]
    },
    {
      "cell_type": "code",
      "execution_count": 18,
      "id": "ce79e93e",
      "metadata": {
        "id": "ce79e93e",
        "colab": {
          "base_uri": "https://localhost:8080/"
        },
        "outputId": "6ad25f8d-cec2-4be2-9787-fb727798e7a4"
      },
      "outputs": [
        {
          "output_type": "stream",
          "name": "stdout",
          "text": [
            "Shape od target before encoding:  (515345,)\n",
            "Shape od target after encoding:  (515345, 90)\n"
          ]
        }
      ],
      "source": [
        "# Encoding target variable \n",
        "Y_min = Y - Y.min()\n",
        "Y_enc = to_categorical(Y_min, 90)\n",
        "print(\"Shape od target before encoding: \", Y.shape)\n",
        "print(\"Shape od target after encoding: \", Y_enc.shape)"
      ]
    },
    {
      "cell_type": "code",
      "execution_count": 39,
      "id": "eb1de195",
      "metadata": {
        "colab": {
          "base_uri": "https://localhost:8080/"
        },
        "id": "eb1de195",
        "outputId": "8faab7b3-e686-4a91-898f-a8fba67a80cc"
      },
      "outputs": [
        {
          "output_type": "stream",
          "name": "stdout",
          "text": [
            "Shape of training data set (463715, 90)\n",
            "Shape of training target dataframe (463715, 90)\n",
            "Shape of test data set (51630, 90)\n",
            "Shape of test target dataframe (51630, 90)\n"
          ]
        }
      ],
      "source": [
        "# Splitting dataset into train and test \n",
        "# Training data set\n",
        "X_train = X[0:463715]\n",
        "y_train = Y_enc[0:463715]\n",
        "\n",
        "# Test data set\n",
        "X_test = X[463715:]\n",
        "y_test = Y_enc[463715:]\n",
        "print(\"Shape of training data set\", X_train.shape)\n",
        "print(\"Shape of training target dataframe\", y_train.shape)\n",
        "print(\"Shape of test data set\", X_test.shape)\n",
        "print(\"Shape of test target dataframe\", y_test.shape)"
      ]
    },
    {
      "cell_type": "markdown",
      "source": [
        "## Dimensionality Reduction PCA"
      ],
      "metadata": {
        "id": "GE8QGoQ3fW5j"
      },
      "id": "GE8QGoQ3fW5j"
    },
    {
      "cell_type": "code",
      "execution_count": 40,
      "id": "ea0d28fd",
      "metadata": {
        "colab": {
          "base_uri": "https://localhost:8080/"
        },
        "id": "ea0d28fd",
        "outputId": "8ca84c14-43f9-4c6f-e8d6-037ed9728ec8"
      },
      "outputs": [
        {
          "output_type": "execute_result",
          "data": {
            "text/plain": [
              "23"
            ]
          },
          "metadata": {},
          "execution_count": 40
        }
      ],
      "source": [
        "from sklearn.decomposition import PCA\n",
        "\n",
        "pca = PCA(.95)\n",
        "pca.fit(X_train)\n",
        "pca.n_components_"
      ]
    },
    {
      "cell_type": "code",
      "execution_count": 41,
      "id": "7aab0869",
      "metadata": {
        "colab": {
          "base_uri": "https://localhost:8080/"
        },
        "id": "7aab0869",
        "outputId": "e9ee98b4-9650-44a3-f9e3-dcd1aaa10fef"
      },
      "outputs": [
        {
          "output_type": "stream",
          "name": "stdout",
          "text": [
            "Shape of training data set after applying PCA:  (463715, 23)\n",
            "Shape of test data set after applying PCA:  (51630, 23)\n"
          ]
        }
      ],
      "source": [
        "# Applying PCA\n",
        "X_train_pca = pca.transform(X_train)\n",
        "X_test_pca = pca.transform(X_test)\n",
        "print(\"Shape of training data set after applying PCA: \", X_train_pca.shape)\n",
        "print(\"Shape of test data set after applying PCA: \", X_test_pca.shape)"
      ]
    },
    {
      "cell_type": "markdown",
      "source": [
        "## Training Model"
      ],
      "metadata": {
        "id": "HYSrID8GjVBv"
      },
      "id": "HYSrID8GjVBv"
    },
    {
      "cell_type": "markdown",
      "source": [
        "### Neural Network"
      ],
      "metadata": {
        "id": "f0sdegVgjXmg"
      },
      "id": "f0sdegVgjXmg"
    },
    {
      "cell_type": "code",
      "source": [
        "# Training a sequential model Neural Network\n",
        "model_nn = Sequential()\n",
        "model_nn.add(Dense(90, input_shape=(23,)))\n",
        "model_nn.add(Dense(90, activation='softmax'))\n",
        "model_nn.add(Dense(90))\n",
        "model_nn.compile(loss='binary_crossentropy', optimizer='adam', metrics=['accuracy'])"
      ],
      "metadata": {
        "id": "NRNChRZbhMUr"
      },
      "id": "NRNChRZbhMUr",
      "execution_count": 42,
      "outputs": []
    },
    {
      "cell_type": "code",
      "source": [
        "from tensorflow.python.keras.callbacks import ReduceLROnPlateau, EarlyStopping\n",
        "learning_rate_reduction = ReduceLROnPlateau(monitor='val_accuracy', \n",
        "                                            patience=4, \n",
        "                                            verbose=1, \n",
        "                                            factor=0.5, \n",
        "                                            min_lr=0.0001)\n",
        "h = model_nn.fit(\n",
        "    X_train_pca,\n",
        "    y_train,\n",
        "    batch_size=128,\n",
        "    epochs=20,\n",
        "    verbose=0,\n",
        "    validation_data=(X_test_pca, y_test),\n",
        "    callbacks = [learning_rate_reduction]\n",
        ")"
      ],
      "metadata": {
        "id": "E133nAxhkMBy",
        "colab": {
          "base_uri": "https://localhost:8080/"
        },
        "outputId": "6fcb0e99-0b5f-4c67-bb62-b4f119b901cc"
      },
      "id": "E133nAxhkMBy",
      "execution_count": 43,
      "outputs": [
        {
          "output_type": "stream",
          "name": "stdout",
          "text": [
            "\n",
            "Epoch 00009: ReduceLROnPlateau reducing learning rate to 0.0005000000237487257.\n",
            "\n",
            "Epoch 00017: ReduceLROnPlateau reducing learning rate to 0.0002500000118743628.\n"
          ]
        }
      ]
    },
    {
      "cell_type": "code",
      "source": [
        "epochs = range(1, len(h.history['loss']) + 1)\n",
        "plt.plot(epochs, h.history['loss'], label='val');\n",
        "plt.xlabel('epochs');\n",
        "plt.ylabel('loss');\n",
        "plt.show();"
      ],
      "metadata": {
        "colab": {
          "base_uri": "https://localhost:8080/",
          "height": 279
        },
        "id": "NRUiqNrVA3az",
        "outputId": "90b1c7d9-0773-404c-9da8-85ef9f88f823"
      },
      "id": "NRUiqNrVA3az",
      "execution_count": 46,
      "outputs": [
        {
          "output_type": "display_data",
          "data": {
            "text/plain": [
              "<Figure size 432x288 with 1 Axes>"
            ],
            "image/png": "[encoded data removed]"
          },
          "metadata": {
            "needs_background": "light"
          }
        }
      ]
    },
    {
      "cell_type": "code",
      "source": [
        "model_nn.summary()"
      ],
      "metadata": {
        "colab": {
          "base_uri": "https://localhost:8080/"
        },
        "id": "cJKf8sORzOmP",
        "outputId": "1b190cb9-8cd9-4e6f-d992-bdfd06e57e80"
      },
      "id": "cJKf8sORzOmP",
      "execution_count": 47,
      "outputs": [
        {
          "output_type": "stream",
          "name": "stdout",
          "text": [
            "Model: \"sequential_4\"\n",
            "_________________________________________________________________\n",
            " Layer (type)                Output Shape              Param #   \n",
            "=================================================================\n",
            " dense_9 (Dense)             (None, 90)                2160      \n",
            "                                                                 \n",
            " dense_10 (Dense)            (None, 90)                8190      \n",
            "                                                                 \n",
            " dense_11 (Dense)            (None, 90)                8190      \n",
            "                                                                 \n",
            "=================================================================\n",
            "Total params: 18,540\n",
            "Trainable params: 18,540\n",
            "Non-trainable params: 0\n",
            "_________________________________________________________________\n"
          ]
        }
      ]
    },
    {
      "cell_type": "code",
      "source": [
        "# Predicting y variable\n",
        "y_pred = model_nn.predict(X_test_pca)"
      ],
      "metadata": {
        "colab": {
          "base_uri": "https://localhost:8080/"
        },
        "id": "KWVY5fse-N-R",
        "outputId": "d01fcaf3-1752-4b50-dd3a-2f7667e1d612"
      },
      "id": "KWVY5fse-N-R",
      "execution_count": 48,
      "outputs": [
        {
          "output_type": "stream",
          "name": "stdout",
          "text": [
            "1614/1614 [==============================] - 3s 2ms/step\n"
          ]
        }
      ]
    },
    {
      "cell_type": "code",
      "source": [
        "import numpy as np\n",
        "print(\"Mean absolute error: \", np.mean(np.absolute((y_pred-np.array(y_test)))))"
      ],
      "metadata": {
        "colab": {
          "base_uri": "https://localhost:8080/"
        },
        "id": "7a9I6wyD-diX",
        "outputId": "d0003269-8ab7-43b5-f134-eba09a77cfb5"
      },
      "id": "7a9I6wyD-diX",
      "execution_count": 53,
      "outputs": [
        {
          "output_type": "stream",
          "name": "stdout",
          "text": [
            "Mean absolute error:  0.1450523\n"
          ]
        }
      ]
    },
    {
      "cell_type": "markdown",
      "source": [
        "### Decision tree classifier"
      ],
      "metadata": {
        "id": "lfdBCkmyCFxN"
      },
      "id": "lfdBCkmyCFxN"
    },
    {
      "cell_type": "code",
      "source": [
        "from sklearn.tree import DecisionTreeClassifier\n",
        "from sklearn import metrics\n",
        "model_dt = DecisionTreeClassifier()\n",
        "\n",
        "# Train Decision Tree Classifer\n",
        "model_dt = model_dt.fit(X_train,y_train)"
      ],
      "metadata": {
        "id": "o-rACpnfSVAb"
      },
      "id": "o-rACpnfSVAb",
      "execution_count": 63,
      "outputs": []
    },
    {
      "cell_type": "code",
      "source": [
        "#Predict the response for test dataset\n",
        "y_pred = model_dt.predict(X_test)"
      ],
      "metadata": {
        "id": "pv4zZhCsC1sd"
      },
      "id": "pv4zZhCsC1sd",
      "execution_count": 64,
      "outputs": []
    },
    {
      "cell_type": "code",
      "source": [
        "print(\"Mean absolute error: \", np.mean(np.absolute((y_pred-np.array(y_test)))))"
      ],
      "metadata": {
        "colab": {
          "base_uri": "https://localhost:8080/"
        },
        "id": "Xg8cW6KrITMK",
        "outputId": "33880fd8-afdd-4dc3-9449-b7cb00d58a3b"
      },
      "id": "Xg8cW6KrITMK",
      "execution_count": 65,
      "outputs": [
        {
          "output_type": "stream",
          "name": "stdout",
          "text": [
            "Mean absolute error:  0.020964986\n"
          ]
        }
      ]
    },
    {
      "cell_type": "code",
      "source": [],
      "metadata": {
        "id": "nMp_UaQfIxeN"
      },
      "id": "nMp_UaQfIxeN",
      "execution_count": null,
      "outputs": []
    }
  ],
  "metadata": {
    "kernelspec": {
      "display_name": "Python 3 (ipykernel)",
      "language": "python",
      "name": "python3"
    },
    "language_info": {
      "codemirror_mode": {
        "name": "ipython",
        "version": 3
      },
      "file_extension": ".py",
      "mimetype": "text/x-python",
      "name": "python",
      "nbconvert_exporter": "python",
      "pygments_lexer": "ipython3",
      "version": "3.9.7"
    },
    "colab": {
      "provenance": []
    }
  },
  "nbformat": 4,
  "nbformat_minor": 5
}